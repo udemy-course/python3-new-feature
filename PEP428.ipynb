{
 "cells": [
  {
   "cell_type": "code",
   "execution_count": 1,
   "metadata": {},
   "outputs": [],
   "source": [
    "from __future__ import print_function\n",
    "import os\n",
    "from pathlib import Path"
   ]
  },
  {
   "cell_type": "markdown",
   "metadata": {},
   "source": [
    "# 1. find the current  path"
   ]
  },
  {
   "cell_type": "code",
   "execution_count": 5,
   "metadata": {},
   "outputs": [
    {
     "data": {
      "text/plain": [
       "'/Users/penxiao/Documents/VSProjects/gitlab-demo.com/python3-pep'"
      ]
     },
     "execution_count": 5,
     "metadata": {},
     "output_type": "execute_result"
    }
   ],
   "source": [
    "os.path.abspath('.')"
   ]
  },
  {
   "cell_type": "code",
   "execution_count": 14,
   "metadata": {},
   "outputs": [
    {
     "data": {
      "text/plain": [
       "PosixPath('/Users/penxiao/Documents/VSProjects/gitlab-demo.com/python3-pep')"
      ]
     },
     "execution_count": 14,
     "metadata": {},
     "output_type": "execute_result"
    }
   ],
   "source": [
    "Path('.').absolute()"
   ]
  },
  {
   "cell_type": "code",
   "execution_count": 15,
   "metadata": {},
   "outputs": [
    {
     "data": {
      "text/plain": [
       "'/Users/penxiao/Documents/VSProjects/gitlab-demo.com/python3-pep'"
      ]
     },
     "execution_count": 15,
     "metadata": {},
     "output_type": "execute_result"
    }
   ],
   "source": [
    "str(Path('.').absolute())"
   ]
  },
  {
   "cell_type": "markdown",
   "metadata": {},
   "source": [
    "# 2. list all files and folders in current path"
   ]
  },
  {
   "cell_type": "code",
   "execution_count": 16,
   "metadata": {},
   "outputs": [
    {
     "name": "stdout",
     "output_type": "stream",
     "text": [
      "PEP428.ipynb \u001b[1m\u001b[36masyncio\u001b[m\u001b[m      pep3101.py   pep3109.py   pep428.py\r\n",
      "README.md    pep237.py    pep3102.py   pep3110.py   pep435.py\r\n",
      "\u001b[1m\u001b[36mannotations\u001b[m\u001b[m  pep238.py    pep3105.py   pep3134.py   pep450.py\r\n"
     ]
    }
   ],
   "source": [
    "!ls"
   ]
  },
  {
   "cell_type": "code",
   "execution_count": 18,
   "metadata": {},
   "outputs": [
    {
     "data": {
      "text/plain": [
       "['pep3102.py',\n",
       " 'pep238.py',\n",
       " 'pep237.py',\n",
       " 'pep428.py',\n",
       " 'pep3109.py',\n",
       " 'PEP428.ipynb',\n",
       " 'README.md',\n",
       " 'annotations',\n",
       " '.gitignore',\n",
       " '.ipynb_checkpoints',\n",
       " 'pep3110.py',\n",
       " '.git',\n",
       " '.vscode',\n",
       " 'pep450.py',\n",
       " 'pep435.py',\n",
       " 'pep3134.py',\n",
       " 'asyncio',\n",
       " 'pep3101.py',\n",
       " 'pep3105.py']"
      ]
     },
     "execution_count": 18,
     "metadata": {},
     "output_type": "execute_result"
    }
   ],
   "source": [
    "os.listdir(os.path.abspath('.'))"
   ]
  },
  {
   "cell_type": "code",
   "execution_count": 21,
   "metadata": {},
   "outputs": [
    {
     "data": {
      "text/plain": [
       "[PosixPath('pep3102.py'),\n",
       " PosixPath('pep238.py'),\n",
       " PosixPath('pep237.py'),\n",
       " PosixPath('pep428.py'),\n",
       " PosixPath('pep3109.py'),\n",
       " PosixPath('PEP428.ipynb'),\n",
       " PosixPath('README.md'),\n",
       " PosixPath('annotations'),\n",
       " PosixPath('.gitignore'),\n",
       " PosixPath('.ipynb_checkpoints'),\n",
       " PosixPath('pep3110.py'),\n",
       " PosixPath('.git'),\n",
       " PosixPath('.vscode'),\n",
       " PosixPath('pep450.py'),\n",
       " PosixPath('pep435.py'),\n",
       " PosixPath('pep3134.py'),\n",
       " PosixPath('asyncio'),\n",
       " PosixPath('pep3101.py'),\n",
       " PosixPath('pep3105.py')]"
      ]
     },
     "execution_count": 21,
     "metadata": {},
     "output_type": "execute_result"
    }
   ],
   "source": [
    "list(Path('.').iterdir())"
   ]
  },
  {
   "cell_type": "code",
   "execution_count": 22,
   "metadata": {},
   "outputs": [
    {
     "data": {
      "text/plain": [
       "['pep3102.py',\n",
       " 'pep238.py',\n",
       " 'pep237.py',\n",
       " 'pep428.py',\n",
       " 'pep3109.py',\n",
       " 'PEP428.ipynb',\n",
       " 'README.md',\n",
       " 'annotations',\n",
       " '.gitignore',\n",
       " '.ipynb_checkpoints',\n",
       " 'pep3110.py',\n",
       " '.git',\n",
       " '.vscode',\n",
       " 'pep450.py',\n",
       " 'pep435.py',\n",
       " 'pep3134.py',\n",
       " 'asyncio',\n",
       " 'pep3101.py',\n",
       " 'pep3105.py']"
      ]
     },
     "execution_count": 22,
     "metadata": {},
     "output_type": "execute_result"
    }
   ],
   "source": [
    "[str(item) for item in Path('.').iterdir()]"
   ]
  },
  {
   "cell_type": "markdown",
   "metadata": {},
   "source": [
    "# 3. goes into one folder"
   ]
  },
  {
   "cell_type": "code",
   "execution_count": 25,
   "metadata": {},
   "outputs": [
    {
     "data": {
      "text/plain": [
       "'/Users/penxiao/Documents/VSProjects/gitlab-demo.com/python3-pep/annotations'"
      ]
     },
     "execution_count": 25,
     "metadata": {},
     "output_type": "execute_result"
    }
   ],
   "source": [
    "os.path.join(\n",
    "    os.path.abspath('.'),\n",
    "    'annotations'\n",
    ")"
   ]
  },
  {
   "cell_type": "code",
   "execution_count": 26,
   "metadata": {},
   "outputs": [
    {
     "data": {
      "text/plain": [
       "PosixPath('annotations')"
      ]
     },
     "execution_count": 26,
     "metadata": {},
     "output_type": "execute_result"
    }
   ],
   "source": [
    "Path('.') / \"annotations\""
   ]
  },
  {
   "cell_type": "code",
   "execution_count": 27,
   "metadata": {},
   "outputs": [],
   "source": [
    "a = Path('.') / \"annotations\""
   ]
  },
  {
   "cell_type": "code",
   "execution_count": 28,
   "metadata": {},
   "outputs": [
    {
     "data": {
      "text/plain": [
       "PosixPath('/Users/penxiao/Documents/VSProjects/gitlab-demo.com/python3-pep/annotations')"
      ]
     },
     "execution_count": 28,
     "metadata": {},
     "output_type": "execute_result"
    }
   ],
   "source": [
    "a.absolute()"
   ]
  },
  {
   "cell_type": "code",
   "execution_count": null,
   "metadata": {},
   "outputs": [],
   "source": []
  }
 ],
 "metadata": {
  "kernelspec": {
   "display_name": "Python 3",
   "language": "python",
   "name": "python3"
  },
  "language_info": {
   "codemirror_mode": {
    "name": "ipython",
    "version": 3
   },
   "file_extension": ".py",
   "mimetype": "text/x-python",
   "name": "python",
   "nbconvert_exporter": "python",
   "pygments_lexer": "ipython3",
   "version": "3.6.5"
  }
 },
 "nbformat": 4,
 "nbformat_minor": 2
}
